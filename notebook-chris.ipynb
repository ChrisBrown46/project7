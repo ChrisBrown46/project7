{
 "cells": [
  {
   "cell_type": "markdown",
   "metadata": {},
   "source": [
    "# Project 7 - Logistic Regression and Support Vector Machines"
   ]
  },
  {
   "cell_type": "markdown",
   "metadata": {},
   "source": [
    "## Notebook imports and settings"
   ]
  },
  {
   "cell_type": "code",
   "execution_count": 1,
   "metadata": {},
   "outputs": [],
   "source": [
    "# Python imports\n",
    "\n",
    "# Numerical imports\n",
    "import numpy as np\n",
    "import pandas as pd\n",
    "\n",
    "# Plotting imports\n",
    "import matplotlib.pyplot as plt\n",
    "import seaborn as sns\n",
    "\n",
    "# Plotting settings\n",
    "sns.set()\n",
    "sns.set_palette(\"colorblind\")\n",
    "sns.set_style(\"ticks\")"
   ]
  },
  {
   "cell_type": "markdown",
   "metadata": {},
   "source": [
    "## Load and format data"
   ]
  },
  {
   "cell_type": "code",
   "execution_count": 38,
   "metadata": {},
   "outputs": [],
   "source": [
    "red_wine = pd.read_csv(\"./data/winequality-red.csv\", sep=\";\")\n",
    "white_wine = pd.read_csv(\"./data/winequality-white.csv\", sep=\";\")\n",
    "\n",
    "# Threshold for 1 = good, 0 = bad; threshold value chosen for 50/50 dataset split\n",
    "red_wine[red_wine[\"quality\"] < 6] = 0\n",
    "red_wine[red_wine[\"quality\"] >= 6] = 1\n",
    "\n",
    "white_wine[white_wine[\"quality\"] < 5] = 0\n",
    "white_wine[white_wine[\"quality\"] >= 5] = 1"
   ]
  },
  {
   "cell_type": "code",
   "execution_count": null,
   "metadata": {},
   "outputs": [],
   "source": []
  }
 ],
 "metadata": {
  "kernelspec": {
   "display_name": "Python 3",
   "language": "python",
   "name": "python3"
  },
  "language_info": {
   "codemirror_mode": {
    "name": "ipython",
    "version": 3
   },
   "file_extension": ".py",
   "mimetype": "text/x-python",
   "name": "python",
   "nbconvert_exporter": "python",
   "pygments_lexer": "ipython3",
   "version": "3.8.2"
  }
 },
 "nbformat": 4,
 "nbformat_minor": 4
}
